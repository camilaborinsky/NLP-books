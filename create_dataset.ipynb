{
 "cells": [
  {
   "cell_type": "code",
   "execution_count": 1,
   "metadata": {},
   "outputs": [],
   "source": [
    "import gutenbergpy.textget\n",
    "import pandas as pd "
   ]
  },
  {
   "cell_type": "code",
   "execution_count": 2,
   "metadata": {},
   "outputs": [],
   "source": [
    "def download_text(id):\n",
    "    try:\n",
    "        text = gutenbergpy.textget.get_text_by_id(id)\n",
    "        text = gutenbergpy.textget.strip_headers(text)\n",
    "        text = text.decode('utf-8')\n",
    "        return text\n",
    "    except Exception as e:\n",
    "        print(\"error downloading ID\", id)\n",
    "        raise e"
   ]
  },
  {
   "cell_type": "code",
   "execution_count": 3,
   "metadata": {},
   "outputs": [
    {
     "name": "stderr",
     "output_type": "stream",
     "text": [
      "/tmp/ipykernel_546738/3277692249.py:1: DtypeWarning: Columns (8) have mixed types. Specify dtype option on import or set low_memory=False.\n",
      "  df_metadata = pd.read_csv('gutenberg.csv')\n"
     ]
    },
    {
     "data": {
      "text/plain": [
       "0                         Jefferson, Thomas\n",
       "1                                          \n",
       "2        Kennedy, John F. (John Fitzgerald)\n",
       "3                          Lincoln, Abraham\n",
       "4                                          \n",
       "                        ...                \n",
       "55596                   Schiller, Friedrich\n",
       "55597                        Huneker, James\n",
       "55598              Flandrau, Charles Macomb\n",
       "55599         Cornell, Frederick Carruthers\n",
       "55600                                      \n",
       "Name: Authors, Length: 55601, dtype: object"
      ]
     },
     "execution_count": 3,
     "metadata": {},
     "output_type": "execute_result"
    }
   ],
   "source": [
    "df_metadata = pd.read_csv('gutenberg.csv')\n",
    "#filter type text\n",
    "df_metadata = df_metadata[df_metadata['Type'] == 'Text']\n",
    "#filter langauge english\n",
    "df_metadata = df_metadata[df_metadata['Language'] == 'en']\n",
    "#get only Text Authors and Title\n",
    "df_metadata = df_metadata[['Text#','Authors','Title']]\n",
    "df_metadata = df_metadata.dropna().reset_index(drop=True)\n",
    "#remove years\n",
    "df_metadata[\"Authors\"] = df_metadata[\"Authors\"].str.split(',').str[:-1].str.join(',').str.strip()\n",
    "df_metadata[\"Authors\"]\n"
   ]
  },
  {
   "attachments": {},
   "cell_type": "markdown",
   "metadata": {},
   "source": [
    "Seleccionamos los autores que están en el top 100\n",
    "https://www.gutenberg.org/browse/scores/top"
   ]
  },
  {
   "cell_type": "code",
   "execution_count": 4,
   "metadata": {},
   "outputs": [
    {
     "data": {
      "text/html": [
       "<div>\n",
       "<style scoped>\n",
       "    .dataframe tbody tr th:only-of-type {\n",
       "        vertical-align: middle;\n",
       "    }\n",
       "\n",
       "    .dataframe tbody tr th {\n",
       "        vertical-align: top;\n",
       "    }\n",
       "\n",
       "    .dataframe thead th {\n",
       "        text-align: right;\n",
       "    }\n",
       "</style>\n",
       "<table border=\"1\" class=\"dataframe\">\n",
       "  <thead>\n",
       "    <tr style=\"text-align: right;\">\n",
       "      <th></th>\n",
       "      <th>Author</th>\n",
       "    </tr>\n",
       "  </thead>\n",
       "  <tbody>\n",
       "    <tr>\n",
       "      <th>0</th>\n",
       "      <td>Shakespeare, William</td>\n",
       "    </tr>\n",
       "    <tr>\n",
       "      <th>1</th>\n",
       "      <td>Smollett, T. (Tobias)</td>\n",
       "    </tr>\n",
       "    <tr>\n",
       "      <th>2</th>\n",
       "      <td>Forster, E. M. (Edward Morgan)</td>\n",
       "    </tr>\n",
       "    <tr>\n",
       "      <th>3</th>\n",
       "      <td>Montgomery, L. M. (Lucy Maud)</td>\n",
       "    </tr>\n",
       "    <tr>\n",
       "      <th>4</th>\n",
       "      <td>Alcott, Louisa May</td>\n",
       "    </tr>\n",
       "    <tr>\n",
       "      <th>...</th>\n",
       "      <td>...</td>\n",
       "    </tr>\n",
       "    <tr>\n",
       "      <th>95</th>\n",
       "      <td>Balagtas, Francisco</td>\n",
       "    </tr>\n",
       "    <tr>\n",
       "      <th>96</th>\n",
       "      <td>Marcus Aurelius, Emperor of Rome</td>\n",
       "    </tr>\n",
       "    <tr>\n",
       "      <th>97</th>\n",
       "      <td>Wodehouse, P. G. (Pelham Grenville)</td>\n",
       "    </tr>\n",
       "    <tr>\n",
       "      <th>98</th>\n",
       "      <td>Wharton, Edith</td>\n",
       "    </tr>\n",
       "    <tr>\n",
       "      <th>99</th>\n",
       "      <td>Ronquillo y Valdez, Carlos</td>\n",
       "    </tr>\n",
       "  </tbody>\n",
       "</table>\n",
       "<p>100 rows × 1 columns</p>\n",
       "</div>"
      ],
      "text/plain": [
       "                                 Author\n",
       "0                  Shakespeare, William\n",
       "1                 Smollett, T. (Tobias)\n",
       "2        Forster, E. M. (Edward Morgan)\n",
       "3         Montgomery, L. M. (Lucy Maud)\n",
       "4                    Alcott, Louisa May\n",
       "..                                  ...\n",
       "95                  Balagtas, Francisco\n",
       "96     Marcus Aurelius, Emperor of Rome\n",
       "97  Wodehouse, P. G. (Pelham Grenville)\n",
       "98                       Wharton, Edith\n",
       "99           Ronquillo y Valdez, Carlos\n",
       "\n",
       "[100 rows x 1 columns]"
      ]
     },
     "execution_count": 4,
     "metadata": {},
     "output_type": "execute_result"
    }
   ],
   "source": [
    "authors = pd.read_csv('authors.csv')\n",
    "#find last '(' and remove everything after\n",
    "authors['Author'] = authors['Author'].str.split('(').str[:-1].str.join('(').str.strip()\n",
    "\n",
    "authors\n"
   ]
  },
  {
   "cell_type": "code",
   "execution_count": 5,
   "metadata": {},
   "outputs": [],
   "source": [
    "_df_metadata_filtered = df_metadata[df_metadata['Authors'].isin(authors['Author'])]\n",
    "\n"
   ]
  },
  {
   "cell_type": "code",
   "execution_count": 6,
   "metadata": {},
   "outputs": [],
   "source": [
    "#pick a random book per author with seed 13\n",
    "df_metadata_filtered = _df_metadata_filtered.groupby('Authors').sample(n=1, random_state=13).reset_index(drop=True)\n"
   ]
  },
  {
   "cell_type": "code",
   "execution_count": 7,
   "metadata": {},
   "outputs": [
    {
     "data": {
      "text/plain": [
       "72"
      ]
     },
     "execution_count": 7,
     "metadata": {},
     "output_type": "execute_result"
    }
   ],
   "source": [
    "len(df_metadata_filtered)"
   ]
  },
  {
   "cell_type": "code",
   "execution_count": 8,
   "metadata": {},
   "outputs": [],
   "source": [
    "code_ids = df_metadata_filtered['Text#'].tolist()\n",
    "books = [download_text(id) for id in code_ids]"
   ]
  },
  {
   "cell_type": "code",
   "execution_count": 9,
   "metadata": {},
   "outputs": [],
   "source": [
    "#add books column to dataframe\n",
    "df_metadata_filtered['Books'] = books"
   ]
  },
  {
   "cell_type": "code",
   "execution_count": 10,
   "metadata": {},
   "outputs": [
    {
     "data": {
      "text/html": [
       "<div>\n",
       "<style scoped>\n",
       "    .dataframe tbody tr th:only-of-type {\n",
       "        vertical-align: middle;\n",
       "    }\n",
       "\n",
       "    .dataframe tbody tr th {\n",
       "        vertical-align: top;\n",
       "    }\n",
       "\n",
       "    .dataframe thead th {\n",
       "        text-align: right;\n",
       "    }\n",
       "</style>\n",
       "<table border=\"1\" class=\"dataframe\">\n",
       "  <thead>\n",
       "    <tr style=\"text-align: right;\">\n",
       "      <th></th>\n",
       "      <th>Text#</th>\n",
       "      <th>Authors</th>\n",
       "      <th>Title</th>\n",
       "      <th>Books</th>\n",
       "    </tr>\n",
       "  </thead>\n",
       "  <tbody>\n",
       "    <tr>\n",
       "      <th>0</th>\n",
       "      <td>37807</td>\n",
       "      <td>Alcott, Louisa May</td>\n",
       "      <td>Mountain-Laurel and Maidenhair</td>\n",
       "      <td>\\n\\n\\n\\n\\n\\n\\n\\n\\n  [Illustration: \"Her eyes b...</td>\n",
       "    </tr>\n",
       "    <tr>\n",
       "      <th>1</th>\n",
       "      <td>1212</td>\n",
       "      <td>Austen, Jane</td>\n",
       "      <td>Love and Freindship [sic]</td>\n",
       "      <td>\\n\\n\\n\\nLOVE &amp; FREINDSHIP\\nAND\\nOTHER EARLY WO...</td>\n",
       "    </tr>\n",
       "    <tr>\n",
       "      <th>2</th>\n",
       "      <td>6861</td>\n",
       "      <td>Balzac, Honoré de</td>\n",
       "      <td>Vautrin: A Drama in Five Acts</td>\n",
       "      <td>\\n\\n\\n\\n\\n                               VAUTR...</td>\n",
       "    </tr>\n",
       "    <tr>\n",
       "      <th>3</th>\n",
       "      <td>39543</td>\n",
       "      <td>Barrie, J. M. (James Matthew)</td>\n",
       "      <td>A Holiday in Bed, and Other Sketches</td>\n",
       "      <td>\\n\\n\\n\\n\\n\\nA HOLIDAY IN BED\\n\\nAnd other Sket...</td>\n",
       "    </tr>\n",
       "    <tr>\n",
       "      <th>4</th>\n",
       "      <td>961</td>\n",
       "      <td>Baum, L. Frank (Lyman Frank)</td>\n",
       "      <td>Glinda of Oz\\r\\nIn Which Are Related the Excit...</td>\n",
       "      <td>\\n\\n\\n\\n\\n\\n\\n\\n\\nGLINDA OF OZ\\n\\n\\nby\\n\\nL. F...</td>\n",
       "    </tr>\n",
       "    <tr>\n",
       "      <th>...</th>\n",
       "      <td>...</td>\n",
       "      <td>...</td>\n",
       "      <td>...</td>\n",
       "      <td>...</td>\n",
       "    </tr>\n",
       "    <tr>\n",
       "      <th>67</th>\n",
       "      <td>30855</td>\n",
       "      <td>Wells, H. G. (Herbert George)</td>\n",
       "      <td>The Wife of Sir Isaac Harman</td>\n",
       "      <td>\\n\\n\\n\\nTHE WIFE OF\\nSIR ISAAC HARMAN\\n\\nBY\\nH...</td>\n",
       "    </tr>\n",
       "    <tr>\n",
       "      <th>68</th>\n",
       "      <td>166</td>\n",
       "      <td>Wharton, Edith</td>\n",
       "      <td>Summer</td>\n",
       "      <td>\\n\\n\\n\\n\\nSUMMER\\n\\nby Edith Wharton\\n\\n\\n1917...</td>\n",
       "    </tr>\n",
       "    <tr>\n",
       "      <th>69</th>\n",
       "      <td>4001</td>\n",
       "      <td>Widger, David</td>\n",
       "      <td>Widger's Quotations from Project Gutenberg Edi...</td>\n",
       "      <td>\\n\\n\\n\\n\\nWIDGER'S QUOTATIONS\\n\\nFROM THE PROJ...</td>\n",
       "    </tr>\n",
       "    <tr>\n",
       "      <th>70</th>\n",
       "      <td>902</td>\n",
       "      <td>Wilde, Oscar</td>\n",
       "      <td>The Happy Prince, and Other Tales</td>\n",
       "      <td>\\n                          [Picture: Book cov...</td>\n",
       "    </tr>\n",
       "    <tr>\n",
       "      <th>71</th>\n",
       "      <td>8178</td>\n",
       "      <td>Wodehouse, P. G. (Pelham Grenville)</td>\n",
       "      <td>The Politeness of Princes, and Other School St...</td>\n",
       "      <td>\\n\\n\\n\\n\\n\\n\\n\\n\\n\\nTHE POLITENESS OF PRINCES\\...</td>\n",
       "    </tr>\n",
       "  </tbody>\n",
       "</table>\n",
       "<p>72 rows × 4 columns</p>\n",
       "</div>"
      ],
      "text/plain": [
       "    Text#                              Authors   \n",
       "0   37807                   Alcott, Louisa May  \\\n",
       "1    1212                         Austen, Jane   \n",
       "2    6861                    Balzac, Honoré de   \n",
       "3   39543        Barrie, J. M. (James Matthew)   \n",
       "4     961         Baum, L. Frank (Lyman Frank)   \n",
       "..    ...                                  ...   \n",
       "67  30855        Wells, H. G. (Herbert George)   \n",
       "68    166                       Wharton, Edith   \n",
       "69   4001                        Widger, David   \n",
       "70    902                         Wilde, Oscar   \n",
       "71   8178  Wodehouse, P. G. (Pelham Grenville)   \n",
       "\n",
       "                                                Title   \n",
       "0                      Mountain-Laurel and Maidenhair  \\\n",
       "1                           Love and Freindship [sic]   \n",
       "2                       Vautrin: A Drama in Five Acts   \n",
       "3                A Holiday in Bed, and Other Sketches   \n",
       "4   Glinda of Oz\\r\\nIn Which Are Related the Excit...   \n",
       "..                                                ...   \n",
       "67                       The Wife of Sir Isaac Harman   \n",
       "68                                             Summer   \n",
       "69  Widger's Quotations from Project Gutenberg Edi...   \n",
       "70                  The Happy Prince, and Other Tales   \n",
       "71  The Politeness of Princes, and Other School St...   \n",
       "\n",
       "                                                Books  \n",
       "0   \\n\\n\\n\\n\\n\\n\\n\\n\\n  [Illustration: \"Her eyes b...  \n",
       "1   \\n\\n\\n\\nLOVE & FREINDSHIP\\nAND\\nOTHER EARLY WO...  \n",
       "2   \\n\\n\\n\\n\\n                               VAUTR...  \n",
       "3   \\n\\n\\n\\n\\n\\nA HOLIDAY IN BED\\n\\nAnd other Sket...  \n",
       "4   \\n\\n\\n\\n\\n\\n\\n\\n\\nGLINDA OF OZ\\n\\n\\nby\\n\\nL. F...  \n",
       "..                                                ...  \n",
       "67  \\n\\n\\n\\nTHE WIFE OF\\nSIR ISAAC HARMAN\\n\\nBY\\nH...  \n",
       "68  \\n\\n\\n\\n\\nSUMMER\\n\\nby Edith Wharton\\n\\n\\n1917...  \n",
       "69  \\n\\n\\n\\n\\nWIDGER'S QUOTATIONS\\n\\nFROM THE PROJ...  \n",
       "70  \\n                          [Picture: Book cov...  \n",
       "71  \\n\\n\\n\\n\\n\\n\\n\\n\\n\\nTHE POLITENESS OF PRINCES\\...  \n",
       "\n",
       "[72 rows x 4 columns]"
      ]
     },
     "execution_count": 10,
     "metadata": {},
     "output_type": "execute_result"
    }
   ],
   "source": [
    "df_metadata_filtered"
   ]
  },
  {
   "cell_type": "code",
   "execution_count": 11,
   "metadata": {},
   "outputs": [],
   "source": [
    "#save dataframe to csv\n",
    "df_metadata_filtered.to_csv('gutenberg_with_text.csv', index=False)"
   ]
  }
 ],
 "metadata": {
  "kernelspec": {
   "display_name": "Python 3",
   "language": "python",
   "name": "python3"
  },
  "language_info": {
   "codemirror_mode": {
    "name": "ipython",
    "version": 3
   },
   "file_extension": ".py",
   "mimetype": "text/x-python",
   "name": "python",
   "nbconvert_exporter": "python",
   "pygments_lexer": "ipython3",
   "version": "3.10.6"
  },
  "orig_nbformat": 4
 },
 "nbformat": 4,
 "nbformat_minor": 2
}
