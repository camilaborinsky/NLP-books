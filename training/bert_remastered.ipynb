{
 "cells": [
  {
   "cell_type": "code",
   "execution_count": null,
   "metadata": {},
   "outputs": [],
   "source": [
    "from transformers import BertTokenizer, BertModel\n",
    "from sklearn.linear_model import LogisticRegression\n",
    "from sklearn.model_selection import train_test_split\n",
    "from sklearn.metrics import accuracy_score, precision_score, recall_score, f1_score\n",
    "from sklearn.metrics import confusion_matrix\n",
    "import matplotlib.pyplot as plt\n",
    "import numpy as np\n",
    "#plot roc curve\n",
    "from sklearn.metrics import roc_curve, auc\n",
    "import pandas as pd\n",
    "import torch"
   ]
  },
  {
   "cell_type": "code",
   "execution_count": null,
   "metadata": {},
   "outputs": [],
   "source": [
    "#load books\n",
    "df = pd.read_csv('../data/gutenberg_paragraphs.csv')\n",
    "\n",
    "df.dropna(inplace=True)\n",
    "df.reset_index(drop=True, inplace=True)\n",
    "\n",
    "BALANCE_CLASSES = True\n",
    "BALANCED_METHOD = 'downsampling' #upsampling, downsampling\n",
    "RANDOM_SEED = 42\n",
    "\n",
    "if BALANCE_CLASSES:\n",
    "    if BALANCED_METHOD == 'upsampling':\n",
    "        max_class_count = df['Author'].value_counts().max()\n",
    "        df = df.groupby('Author').apply(lambda x: x.sample(max_class_count, replace=True, random_state=RANDOM_SEED)).reset_index(drop=True)\n",
    "    elif BALANCED_METHOD == 'downsampling':\n",
    "        min_class_count = df['Author'].value_counts().min()\n",
    "        df = df.groupby('Author').apply(lambda x: x.sample(min_class_count, random_state=RANDOM_SEED)).reset_index(drop=True)\n",
    "\n",
    "\n",
    "\n",
    "\n",
    "#merge books by author\n",
    "#df = df.groupby('Authors')['Books'].apply(' '.join).reset_index()\n",
    "\n",
    "df.groupby('Author').count()\n"
   ]
  },
  {
   "cell_type": "code",
   "execution_count": null,
   "metadata": {},
   "outputs": [],
   "source": [
    "books = df['Text'].values\n",
    "authors = df['Author'].unique()\n",
    "\n",
    "tokenizer = BertTokenizer.from_pretrained('bert-base-uncased')\n",
    "model = BertModel.from_pretrained('bert-base-uncased')"
   ]
  },
  {
   "cell_type": "code",
   "execution_count": null,
   "metadata": {},
   "outputs": [],
   "source": [
    "_X = [ tokenizer(text, padding='max_length', max_length = 512, truncation=True, return_tensors=\"pt\") for text in books]\n"
   ]
  },
  {
   "cell_type": "code",
   "execution_count": null,
   "metadata": {},
   "outputs": [],
   "source": [
    "\n",
    "class Dataset(torch.utils.data.Dataset):\n",
    "    def __init__(self, X,y):\n",
    "        self.X = X\n",
    "        self.y = y\n",
    "    def __len__(self):\n",
    "        return len(self.X)\n",
    "    def __getitem__(self, idx):\n",
    "        return self.X[idx], self.y[idx]\n",
    "\n",
    "X = []\n",
    "model = model.cuda()\n",
    "device = torch.device(\"cuda\")\n",
    "\n",
    "dataset = Dataset(_X, df['Author'].values)\n",
    "\n",
    "for x in _X:\n",
    "    print(len(X)/len(_X)*100,\"                               \", end='\\r')\n",
    "    mask = x['attention_mask'].to(device)\n",
    "    input_id = x['input_ids'].squeeze(1).to(device)\n",
    "    with torch.no_grad():\n",
    "        test = model(input_ids=input_id, attention_mask=mask,return_dict=False)\n",
    "        X.append(test[1].cpu().numpy())\n",
    "\n",
    "# for test, test_y in torch.utils.data.DataLoader(dataset, batch_size=1, shuffle=False):\n",
    "#     test = test.to(device)\n",
    "#     test_y = test_y.to(device)\n",
    "#     with torch.no_grad():\n",
    "#         test = model(test)\n",
    "#         X.append(test.cpu().numpy())\n",
    "\n",
    "X\n"
   ]
  },
  {
   "cell_type": "code",
   "execution_count": null,
   "metadata": {},
   "outputs": [],
   "source": [
    "#remove first dimension of each X\n",
    "X =[x[0] for x in X]"
   ]
  },
  {
   "cell_type": "code",
   "execution_count": null,
   "metadata": {},
   "outputs": [],
   "source": [
    "y= df['Author'].values\n",
    "X_train, X_test, y_train, y_test = train_test_split(X, y, test_size=0.1, random_state=RANDOM_SEED)\n",
    "\n",
    "model = LogisticRegression(verbose=1, max_iter=10000,C=1)\n",
    "model.fit(X_train, y_train)\n",
    "\n"
   ]
  },
  {
   "cell_type": "code",
   "execution_count": null,
   "metadata": {},
   "outputs": [],
   "source": [
    "y_pred = model.predict(X_test)\n",
    "\n",
    "accuracy = accuracy_score(y_test, y_pred)\n",
    "recall = recall_score(y_test, y_pred, average='macro')\n",
    "precision = precision_score(y_test, y_pred, average='macro')\n",
    "f1 = f1_score(y_test, y_pred, average='macro')\n",
    "\n",
    "print(\"Test metrics\")\n",
    "print(\"Accuracy:\", accuracy)\n",
    "print(\"Recall:\", recall)\n",
    "print(\"Precision:\", precision)\n",
    "print(\"F1:\", f1)\n",
    "print(\"-------------------------------------\")\n",
    "print(\"Train metrics\")\n",
    "print(\"Accuracy:\", accuracy_score(y_train, model.predict(X_train)))\n",
    "print(\"Recall:\", recall_score(y_train, model.predict(X_train), average='macro'))\n",
    "print(\"Precision:\", precision_score(y_train, model.predict(X_train), average='macro'))\n",
    "print(\"F1:\", f1_score(y_train, model.predict(X_train), average='macro'))\n"
   ]
  },
  {
   "cell_type": "code",
   "execution_count": null,
   "metadata": {},
   "outputs": [],
   "source": [
    "cm = confusion_matrix(y_test, y_pred)\n",
    "plt.imshow(cm, interpolation='nearest', cmap=plt.cm.Blues)\n",
    "plt.colorbar()\n",
    "plt.tight_layout()\n",
    "plt.ylabel('True label')\n",
    "plt.xlabel('Predicted label')\n",
    "#plot ticks\n",
    "tick_marks = np.arange(len(authors))\n",
    "plt.xticks(tick_marks, authors, rotation=45)\n",
    "plt.yticks(tick_marks, authors)\n",
    "\n",
    "plt.show()"
   ]
  },
  {
   "cell_type": "code",
   "execution_count": null,
   "metadata": {},
   "outputs": [],
   "source": [
    "\n",
    "n_classes = len(authors)\n",
    "\n",
    "classes = [i for i in range(n_classes)]\n",
    "\n",
    "y_pred_prob = model.predict_proba(X_test)\n",
    "y_true = y_test\n",
    "authors2idx = {author:idx for idx, author in enumerate(authors)}\n",
    "#covert author names to numbers\n",
    "y_true = [authors2idx[author] for author in y_true]\n",
    "y_pred_prob = [[prob for prob in author] for author in y_pred_prob]\n",
    "\n",
    "\n",
    "fpr = dict()\n",
    "tpr = dict()\n",
    "roc_auc = dict()\n",
    "for i in range(n_classes):\n",
    "    _y_true = np.array(y_true) == i\n",
    "    #_y_true = _y_true.astype(int)\n",
    "    _y_pred_prob = np.array(y_pred_prob)[:, i]\n",
    "    fpr[i], tpr[i], _ = roc_curve(_y_true, _y_pred_prob)\n",
    "    roc_auc[i] = auc(fpr[i], tpr[i])\n",
    "\n",
    "\n",
    "plt.figure(figsize=(8, 8))\n",
    "lw = 2\n",
    "\n",
    "for i in range(n_classes):\n",
    "    plt.plot(fpr[i], tpr[i], \"-\", lw=lw,\n",
    "             label='ROC curve of class {0} (area = {1:0.2f})'\n",
    "             ''.format(authors[i], roc_auc[i]))\n",
    "\n",
    "plt.xlim([-0.05, 1.0])\n",
    "plt.ylim([0.0, 1.05])\n",
    "plt.xlabel('False Positive Rate')\n",
    "plt.ylabel('True Positive Rate')\n",
    "plt.title('ROC for Author Classification')\n",
    "plt.legend(loc=\"lower right\")\n",
    "plt.show()\n"
   ]
  }
 ],
 "metadata": {
  "kernelspec": {
   "display_name": "venv",
   "language": "python",
   "name": "python3"
  },
  "language_info": {
   "codemirror_mode": {
    "name": "ipython",
    "version": 3
   },
   "file_extension": ".py",
   "mimetype": "text/x-python",
   "name": "python",
   "nbconvert_exporter": "python",
   "pygments_lexer": "ipython3",
   "version": "3.10.6"
  },
  "orig_nbformat": 4
 },
 "nbformat": 4,
 "nbformat_minor": 2
}
