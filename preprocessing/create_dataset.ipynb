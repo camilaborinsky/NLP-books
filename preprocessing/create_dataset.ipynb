{
 "cells": [
  {
   "cell_type": "code",
   "execution_count": 1,
   "metadata": {},
   "outputs": [],
   "source": [
    "import gutenbergpy.textget\n",
    "import gutenbergpy.gutenbergcachesettings\n",
    "import pandas as pd "
   ]
  },
  {
   "cell_type": "code",
   "execution_count": 2,
   "metadata": {},
   "outputs": [],
   "source": [
    "gutenbergpy.gutenbergcachesettings.GutenbergCacheSettings.TEXT_FILES_CACHE_FOLDER = '../data/texts'\n",
    "\n",
    "def download_text(id):\n",
    "    print(\"downloading ID\", id)\n",
    "    try:\n",
    "        text = gutenbergpy.textget.get_text_by_id(id)\n",
    "        text = gutenbergpy.textget.strip_headers(text)\n",
    "        text = text.decode('utf-8')\n",
    "        return text\n",
    "    except Exception as e:\n",
    "        print(\"error downloading ID\", id)\n",
    "        raise e"
   ]
  },
  {
   "cell_type": "code",
   "execution_count": 3,
   "metadata": {},
   "outputs": [
    {
     "name": "stderr",
     "output_type": "stream",
     "text": [
      "/tmp/ipykernel_148330/1996361312.py:1: DtypeWarning: Columns (8) have mixed types. Specify dtype option on import or set low_memory=False.\n",
      "  df_metadata = pd.read_csv('../data/gutenberg.csv')\n"
     ]
    },
    {
     "data": {
      "text/plain": [
       "0                         Jefferson, Thomas\n",
       "1                                          \n",
       "2        Kennedy, John F. (John Fitzgerald)\n",
       "3                          Lincoln, Abraham\n",
       "4                                          \n",
       "                        ...                \n",
       "55596                   Schiller, Friedrich\n",
       "55597                        Huneker, James\n",
       "55598              Flandrau, Charles Macomb\n",
       "55599         Cornell, Frederick Carruthers\n",
       "55600                                      \n",
       "Name: Authors, Length: 55601, dtype: object"
      ]
     },
     "execution_count": 3,
     "metadata": {},
     "output_type": "execute_result"
    }
   ],
   "source": [
    "df_metadata = pd.read_csv('../data/gutenberg.csv')\n",
    "#filter type text\n",
    "df_metadata = df_metadata[df_metadata['Type'] == 'Text']\n",
    "#filter langauge english\n",
    "df_metadata = df_metadata[df_metadata['Language'] == 'en']\n",
    "#get only Text Authors and Title\n",
    "df_metadata = df_metadata[['Text#','Authors','Title']]\n",
    "df_metadata = df_metadata.dropna().reset_index(drop=True)\n",
    "#remove years\n",
    "df_metadata[\"Authors\"] = df_metadata[\"Authors\"].str.split(',').str[:-1].str.join(',').str.strip()\n",
    "df_metadata[\"Authors\"]\n"
   ]
  },
  {
   "attachments": {},
   "cell_type": "markdown",
   "metadata": {},
   "source": [
    "Seleccionamos los autores que están en el top 100\n",
    "https://www.gutenberg.org/browse/scores/top"
   ]
  },
  {
   "cell_type": "code",
   "execution_count": 4,
   "metadata": {},
   "outputs": [
    {
     "data": {
      "text/html": [
       "<div>\n",
       "<style scoped>\n",
       "    .dataframe tbody tr th:only-of-type {\n",
       "        vertical-align: middle;\n",
       "    }\n",
       "\n",
       "    .dataframe tbody tr th {\n",
       "        vertical-align: top;\n",
       "    }\n",
       "\n",
       "    .dataframe thead th {\n",
       "        text-align: right;\n",
       "    }\n",
       "</style>\n",
       "<table border=\"1\" class=\"dataframe\">\n",
       "  <thead>\n",
       "    <tr style=\"text-align: right;\">\n",
       "      <th></th>\n",
       "      <th>Author</th>\n",
       "    </tr>\n",
       "  </thead>\n",
       "  <tbody>\n",
       "    <tr>\n",
       "      <th>0</th>\n",
       "      <td>Christie, Agatha</td>\n",
       "    </tr>\n",
       "    <tr>\n",
       "      <th>1</th>\n",
       "      <td>Doyle, Arthur Conan</td>\n",
       "    </tr>\n",
       "    <tr>\n",
       "      <th>2</th>\n",
       "      <td>Alcott, Louisa May</td>\n",
       "    </tr>\n",
       "    <tr>\n",
       "      <th>3</th>\n",
       "      <td>Austen, Jane</td>\n",
       "    </tr>\n",
       "    <tr>\n",
       "      <th>4</th>\n",
       "      <td>Shakespeare, William</td>\n",
       "    </tr>\n",
       "    <tr>\n",
       "      <th>5</th>\n",
       "      <td>Verne, Jules</td>\n",
       "    </tr>\n",
       "  </tbody>\n",
       "</table>\n",
       "</div>"
      ],
      "text/plain": [
       "                 Author\n",
       "0      Christie, Agatha\n",
       "1   Doyle, Arthur Conan\n",
       "2    Alcott, Louisa May\n",
       "3          Austen, Jane\n",
       "4  Shakespeare, William\n",
       "5          Verne, Jules"
      ]
     },
     "execution_count": 4,
     "metadata": {},
     "output_type": "execute_result"
    }
   ],
   "source": [
    "authors = pd.read_csv('../data/authors.csv')\n",
    "#find last '(' and remove everything after\n",
    "authors['Author'] = authors['Author'].str.split('(').str[:-1].str.join('(').str.strip()\n",
    "\n",
    "authors\n"
   ]
  },
  {
   "cell_type": "code",
   "execution_count": 5,
   "metadata": {},
   "outputs": [
    {
     "data": {
      "text/html": [
       "<div>\n",
       "<style scoped>\n",
       "    .dataframe tbody tr th:only-of-type {\n",
       "        vertical-align: middle;\n",
       "    }\n",
       "\n",
       "    .dataframe tbody tr th {\n",
       "        vertical-align: top;\n",
       "    }\n",
       "\n",
       "    .dataframe thead th {\n",
       "        text-align: right;\n",
       "    }\n",
       "</style>\n",
       "<table border=\"1\" class=\"dataframe\">\n",
       "  <thead>\n",
       "    <tr style=\"text-align: right;\">\n",
       "      <th></th>\n",
       "      <th>Text#</th>\n",
       "      <th>Title</th>\n",
       "    </tr>\n",
       "    <tr>\n",
       "      <th>Authors</th>\n",
       "      <th></th>\n",
       "      <th></th>\n",
       "    </tr>\n",
       "  </thead>\n",
       "  <tbody>\n",
       "    <tr>\n",
       "      <th>Shakespeare, William</th>\n",
       "      <td>158</td>\n",
       "      <td>158</td>\n",
       "    </tr>\n",
       "    <tr>\n",
       "      <th>Doyle, Arthur Conan</th>\n",
       "      <td>80</td>\n",
       "      <td>80</td>\n",
       "    </tr>\n",
       "    <tr>\n",
       "      <th>Alcott, Louisa May</th>\n",
       "      <td>40</td>\n",
       "      <td>40</td>\n",
       "    </tr>\n",
       "    <tr>\n",
       "      <th>Verne, Jules</th>\n",
       "      <td>30</td>\n",
       "      <td>30</td>\n",
       "    </tr>\n",
       "    <tr>\n",
       "      <th>Christie, Agatha</th>\n",
       "      <td>11</td>\n",
       "      <td>11</td>\n",
       "    </tr>\n",
       "    <tr>\n",
       "      <th>Austen, Jane</th>\n",
       "      <td>8</td>\n",
       "      <td>8</td>\n",
       "    </tr>\n",
       "  </tbody>\n",
       "</table>\n",
       "</div>"
      ],
      "text/plain": [
       "                      Text#  Title\n",
       "Authors                           \n",
       "Shakespeare, William    158    158\n",
       "Doyle, Arthur Conan      80     80\n",
       "Alcott, Louisa May       40     40\n",
       "Verne, Jules             30     30\n",
       "Christie, Agatha         11     11\n",
       "Austen, Jane              8      8"
      ]
     },
     "execution_count": 5,
     "metadata": {},
     "output_type": "execute_result"
    }
   ],
   "source": [
    "_df_metadata_filtered = df_metadata[df_metadata['Authors'].isin(authors['Author'])]\n",
    "\n",
    "_df_metadata_filtered.groupby('Authors').count().sort_values(by='Text#', ascending=False)\n"
   ]
  },
  {
   "cell_type": "code",
   "execution_count": 6,
   "metadata": {},
   "outputs": [],
   "source": [
    "#get books from shakespear with title like 'Hamlet'\n",
    "_df_metadata_filtered[_df_metadata_filtered['Authors'] == 'Alcott, Louisa May'].to_csv('alcot.csv', index=False)\n"
   ]
  },
  {
   "cell_type": "code",
   "execution_count": 7,
   "metadata": {},
   "outputs": [],
   "source": [
    "books = {\n",
    "    'Austen, Jane': [1342, 158, 161],\n",
    "    'Verne, Jules': [83, 103, 163],\n",
    "    'Alcott, Louisa May': [514, 8677, 2726],\n",
    "    'Christie, Agatha': [61262, 66446, 70114],\n",
    "    'Shakespeare, William': [1122,1112, 1129],\n",
    "    'Doyle, Arthur Conan': [244,2852,5148],\n",
    "    \n",
    "}\n",
    "\n",
    "#array of all books\n",
    "books_array = []\n",
    "for author, ids in books.items():\n",
    "    for id in ids:\n",
    "        books_array.append(id)"
   ]
  },
  {
   "cell_type": "code",
   "execution_count": 8,
   "metadata": {},
   "outputs": [],
   "source": [
    "df_metadata_filtered = df_metadata[df_metadata['Text#'].isin(books_array)]"
   ]
  },
  {
   "cell_type": "code",
   "execution_count": 9,
   "metadata": {},
   "outputs": [],
   "source": [
    "#pick a random book per author with seed 13\n",
    "#df_metadata_filtered = _df_metadata_filtered.groupby('Authors').sample(n=3, random_state=13).reset_index(drop=True)\n"
   ]
  },
  {
   "cell_type": "code",
   "execution_count": 10,
   "metadata": {},
   "outputs": [
    {
     "data": {
      "text/plain": [
       "18"
      ]
     },
     "execution_count": 10,
     "metadata": {},
     "output_type": "execute_result"
    }
   ],
   "source": [
    "len(df_metadata_filtered)"
   ]
  },
  {
   "cell_type": "code",
   "execution_count": 11,
   "metadata": {},
   "outputs": [],
   "source": [
    "# _authors_df = pd.read_csv('../data/authors.csv')\n",
    "# _authors_df['Author'] = _authors_df['Author'].str.split('(').str[:-1].str.join('(').str.strip()\n",
    "\n",
    "# #filter only books with authors in the authors.csv\n",
    "# df_metadata_filtered = df_metadata_filtered[df_metadata_filtered['Authors'].isin(_authors_df['Author'])]"
   ]
  },
  {
   "cell_type": "code",
   "execution_count": 12,
   "metadata": {},
   "outputs": [
    {
     "name": "stdout",
     "output_type": "stream",
     "text": [
      "downloading ID 83\n",
      "http://www.mirrorservice.org/sites/ftp.ibiblio.org/pub/docs/books/gutenberg\n",
      "downloading ID 103\n",
      "http://www.mirrorservice.org/sites/ftp.ibiblio.org/pub/docs/books/gutenberg\n",
      "downloading ID 158\n",
      "downloading ID 161\n",
      "downloading ID 163\n",
      "http://www.mirrorservice.org/sites/ftp.ibiblio.org/pub/docs/books/gutenberg\n",
      "downloading ID 244\n",
      "http://www.mirrorservice.org/sites/ftp.ibiblio.org/pub/docs/books/gutenberg\n",
      "downloading ID 514\n",
      "http://www.mirrorservice.org/sites/ftp.ibiblio.org/pub/docs/books/gutenberg\n",
      "downloading ID 1112\n",
      "http://www.mirrorservice.org/sites/ftp.ibiblio.org/pub/docs/books/gutenberg\n",
      "downloading ID 1122\n",
      "http://www.mirrorservice.org/sites/ftp.ibiblio.org/pub/docs/books/gutenberg\n",
      "downloading ID 1129\n",
      "http://www.mirrorservice.org/sites/ftp.ibiblio.org/pub/docs/books/gutenberg\n",
      "downloading ID 1342\n",
      "http://www.mirrorservice.org/sites/ftp.ibiblio.org/pub/docs/books/gutenberg\n",
      "downloading ID 2726\n",
      "http://www.mirrorservice.org/sites/ftp.ibiblio.org/pub/docs/books/gutenberg\n",
      "downloading ID 2852\n",
      "http://www.mirrorservice.org/sites/ftp.ibiblio.org/pub/docs/books/gutenberg\n",
      "downloading ID 5148\n",
      "downloading ID 8677\n",
      "http://www.mirrorservice.org/sites/ftp.ibiblio.org/pub/docs/books/gutenberg\n",
      "downloading ID 61262\n",
      "downloading ID 66446\n",
      "http://www.mirrorservice.org/sites/ftp.ibiblio.org/pub/docs/books/gutenberg\n",
      "downloading ID 70114\n",
      "http://www.mirrorservice.org/sites/ftp.ibiblio.org/pub/docs/books/gutenberg\n"
     ]
    }
   ],
   "source": [
    "code_ids = df_metadata_filtered['Text#'].tolist()\n",
    "books = [download_text(id) for id in code_ids]"
   ]
  },
  {
   "cell_type": "code",
   "execution_count": 13,
   "metadata": {},
   "outputs": [
    {
     "name": "stderr",
     "output_type": "stream",
     "text": [
      "/tmp/ipykernel_148330/2974709492.py:2: SettingWithCopyWarning: \n",
      "A value is trying to be set on a copy of a slice from a DataFrame.\n",
      "Try using .loc[row_indexer,col_indexer] = value instead\n",
      "\n",
      "See the caveats in the documentation: https://pandas.pydata.org/pandas-docs/stable/user_guide/indexing.html#returning-a-view-versus-a-copy\n",
      "  df_metadata_filtered['Books'] = books\n"
     ]
    }
   ],
   "source": [
    "#add books column to dataframe\n",
    "df_metadata_filtered['Books'] = books"
   ]
  },
  {
   "cell_type": "code",
   "execution_count": 14,
   "metadata": {},
   "outputs": [
    {
     "data": {
      "text/html": [
       "<div>\n",
       "<style scoped>\n",
       "    .dataframe tbody tr th:only-of-type {\n",
       "        vertical-align: middle;\n",
       "    }\n",
       "\n",
       "    .dataframe tbody tr th {\n",
       "        vertical-align: top;\n",
       "    }\n",
       "\n",
       "    .dataframe thead th {\n",
       "        text-align: right;\n",
       "    }\n",
       "</style>\n",
       "<table border=\"1\" class=\"dataframe\">\n",
       "  <thead>\n",
       "    <tr style=\"text-align: right;\">\n",
       "      <th></th>\n",
       "      <th>Text#</th>\n",
       "      <th>Authors</th>\n",
       "      <th>Title</th>\n",
       "      <th>Books</th>\n",
       "    </tr>\n",
       "  </thead>\n",
       "  <tbody>\n",
       "    <tr>\n",
       "      <th>76</th>\n",
       "      <td>83</td>\n",
       "      <td>Verne, Jules</td>\n",
       "      <td>From the Earth to the Moon; and, Round the Moon</td>\n",
       "      <td>\\n[Illustration]\\n\\n\\n\\n\\nFrom the Earth to th...</td>\n",
       "    </tr>\n",
       "    <tr>\n",
       "      <th>96</th>\n",
       "      <td>103</td>\n",
       "      <td>Verne, Jules</td>\n",
       "      <td>Around the World in Eighty Days</td>\n",
       "      <td>\\n[Illustration]\\n\\n\\n\\n\\nAround the World in ...</td>\n",
       "    </tr>\n",
       "    <tr>\n",
       "      <th>147</th>\n",
       "      <td>158</td>\n",
       "      <td>Austen, Jane</td>\n",
       "      <td>Emma</td>\n",
       "      <td>\\n\\n\\n\\nEmma\\n\\nby Jane Austen\\n\\n\\nContents\\n...</td>\n",
       "    </tr>\n",
       "    <tr>\n",
       "      <th>150</th>\n",
       "      <td>161</td>\n",
       "      <td>Austen, Jane</td>\n",
       "      <td>Sense and Sensibility</td>\n",
       "      <td>\\n[Illustration]\\n\\n\\n\\n\\nSense and Sensibilit...</td>\n",
       "    </tr>\n",
       "    <tr>\n",
       "      <th>152</th>\n",
       "      <td>163</td>\n",
       "      <td>Alcott, Louisa May</td>\n",
       "      <td>Flower Fables</td>\n",
       "      <td>\\n[Illustration]\\n\\n\\n\\n\\nFlower Fables\\n\\nby ...</td>\n",
       "    </tr>\n",
       "    <tr>\n",
       "      <th>208</th>\n",
       "      <td>244</td>\n",
       "      <td>Doyle, Arthur Conan</td>\n",
       "      <td>A Study in Scarlet</td>\n",
       "      <td>\\n\\n\\n\\nA STUDY IN SCARLET\\n\\nBy A. Conan Doyl...</td>\n",
       "    </tr>\n",
       "    <tr>\n",
       "      <th>474</th>\n",
       "      <td>514</td>\n",
       "      <td>Alcott, Louisa May</td>\n",
       "      <td>Little Women</td>\n",
       "      <td>\\n\\n\\n\\nLittle Women\\n\\nby Louisa May Alcott\\n...</td>\n",
       "    </tr>\n",
       "    <tr>\n",
       "      <th>1037</th>\n",
       "      <td>1112</td>\n",
       "      <td>Shakespeare, William</td>\n",
       "      <td>The Tragedy of Romeo and Juliet</td>\n",
       "      <td>\\n\\n\\n\\n\\n\\n\\n\\n\\n\\n\\n\\n\\n*Project Gutenberg i...</td>\n",
       "    </tr>\n",
       "    <tr>\n",
       "      <th>1047</th>\n",
       "      <td>1122</td>\n",
       "      <td>Shakespeare, William</td>\n",
       "      <td>The Tragedy of Hamlet, Prince of Denmark</td>\n",
       "      <td>\\n\\n\\n\\n\\n1604\\n\\n\\nTHE TRAGEDY OF HAMLET, PRI...</td>\n",
       "    </tr>\n",
       "    <tr>\n",
       "      <th>1054</th>\n",
       "      <td>1129</td>\n",
       "      <td>Shakespeare, William</td>\n",
       "      <td>The Tragedy of Macbeth</td>\n",
       "      <td>\\n\\n\\n\\n\\n\\n\\n1606\\n\\nTHE TRAGEDY OF MACBETH\\n...</td>\n",
       "    </tr>\n",
       "    <tr>\n",
       "      <th>1264</th>\n",
       "      <td>1342</td>\n",
       "      <td>Austen, Jane</td>\n",
       "      <td>Pride and Prejudice</td>\n",
       "      <td>\\n\\n\\n\\n\\n                            [Illustr...</td>\n",
       "    </tr>\n",
       "    <tr>\n",
       "      <th>2552</th>\n",
       "      <td>2726</td>\n",
       "      <td>Alcott, Louisa May</td>\n",
       "      <td>Eight Cousins</td>\n",
       "      <td>\\n\\n******************************************...</td>\n",
       "    </tr>\n",
       "    <tr>\n",
       "      <th>2669</th>\n",
       "      <td>2852</td>\n",
       "      <td>Doyle, Arthur Conan</td>\n",
       "      <td>The Hound of the Baskervilles</td>\n",
       "      <td>\\ncover \\n\\n\\n\\nTHE HOUND OF THE BASKERVILLES\\...</td>\n",
       "    </tr>\n",
       "    <tr>\n",
       "      <th>4808</th>\n",
       "      <td>5148</td>\n",
       "      <td>Doyle, Arthur Conan</td>\n",
       "      <td>Rodney Stone</td>\n",
       "      <td>\\n\\nTranscribed from the 1921 Eveleigh Nash &amp; ...</td>\n",
       "    </tr>\n",
       "    <tr>\n",
       "      <th>7897</th>\n",
       "      <td>8677</td>\n",
       "      <td>Alcott, Louisa May</td>\n",
       "      <td>Behind a Mask; or, a Woman's Power</td>\n",
       "      <td>\\n\\n\\n\\n\\n\\n\\n\\nBEHIND A MASK _OR_ A WOMAN'S P...</td>\n",
       "    </tr>\n",
       "    <tr>\n",
       "      <th>48426</th>\n",
       "      <td>61262</td>\n",
       "      <td>Christie, Agatha</td>\n",
       "      <td>Poirot Investigates</td>\n",
       "      <td>\\n\\n\\n\\n\\n\\n  POIROT INVESTIGATES\\n\\n\\n\\n\\n  B...</td>\n",
       "    </tr>\n",
       "    <tr>\n",
       "      <th>52299</th>\n",
       "      <td>66446</td>\n",
       "      <td>Christie, Agatha</td>\n",
       "      <td>The Plymouth Express Affair</td>\n",
       "      <td>AFFAIR ***\\n\\n\\n[Illustration]\\n\\n            ...</td>\n",
       "    </tr>\n",
       "    <tr>\n",
       "      <th>55131</th>\n",
       "      <td>70114</td>\n",
       "      <td>Christie, Agatha</td>\n",
       "      <td>The Big Four</td>\n",
       "      <td>\\n\\n\\n\\n\\n                             THE BIG...</td>\n",
       "    </tr>\n",
       "  </tbody>\n",
       "</table>\n",
       "</div>"
      ],
      "text/plain": [
       "       Text#               Authors  \\\n",
       "76        83          Verne, Jules   \n",
       "96       103          Verne, Jules   \n",
       "147      158          Austen, Jane   \n",
       "150      161          Austen, Jane   \n",
       "152      163    Alcott, Louisa May   \n",
       "208      244   Doyle, Arthur Conan   \n",
       "474      514    Alcott, Louisa May   \n",
       "1037    1112  Shakespeare, William   \n",
       "1047    1122  Shakespeare, William   \n",
       "1054    1129  Shakespeare, William   \n",
       "1264    1342          Austen, Jane   \n",
       "2552    2726    Alcott, Louisa May   \n",
       "2669    2852   Doyle, Arthur Conan   \n",
       "4808    5148   Doyle, Arthur Conan   \n",
       "7897    8677    Alcott, Louisa May   \n",
       "48426  61262      Christie, Agatha   \n",
       "52299  66446      Christie, Agatha   \n",
       "55131  70114      Christie, Agatha   \n",
       "\n",
       "                                                 Title  \\\n",
       "76     From the Earth to the Moon; and, Round the Moon   \n",
       "96                     Around the World in Eighty Days   \n",
       "147                                               Emma   \n",
       "150                              Sense and Sensibility   \n",
       "152                                      Flower Fables   \n",
       "208                                 A Study in Scarlet   \n",
       "474                                       Little Women   \n",
       "1037                   The Tragedy of Romeo and Juliet   \n",
       "1047          The Tragedy of Hamlet, Prince of Denmark   \n",
       "1054                            The Tragedy of Macbeth   \n",
       "1264                               Pride and Prejudice   \n",
       "2552                                     Eight Cousins   \n",
       "2669                     The Hound of the Baskervilles   \n",
       "4808                                      Rodney Stone   \n",
       "7897                Behind a Mask; or, a Woman's Power   \n",
       "48426                              Poirot Investigates   \n",
       "52299                      The Plymouth Express Affair   \n",
       "55131                                     The Big Four   \n",
       "\n",
       "                                                   Books  \n",
       "76     \\n[Illustration]\\n\\n\\n\\n\\nFrom the Earth to th...  \n",
       "96     \\n[Illustration]\\n\\n\\n\\n\\nAround the World in ...  \n",
       "147    \\n\\n\\n\\nEmma\\n\\nby Jane Austen\\n\\n\\nContents\\n...  \n",
       "150    \\n[Illustration]\\n\\n\\n\\n\\nSense and Sensibilit...  \n",
       "152    \\n[Illustration]\\n\\n\\n\\n\\nFlower Fables\\n\\nby ...  \n",
       "208    \\n\\n\\n\\nA STUDY IN SCARLET\\n\\nBy A. Conan Doyl...  \n",
       "474    \\n\\n\\n\\nLittle Women\\n\\nby Louisa May Alcott\\n...  \n",
       "1037   \\n\\n\\n\\n\\n\\n\\n\\n\\n\\n\\n\\n\\n*Project Gutenberg i...  \n",
       "1047   \\n\\n\\n\\n\\n1604\\n\\n\\nTHE TRAGEDY OF HAMLET, PRI...  \n",
       "1054   \\n\\n\\n\\n\\n\\n\\n1606\\n\\nTHE TRAGEDY OF MACBETH\\n...  \n",
       "1264   \\n\\n\\n\\n\\n                            [Illustr...  \n",
       "2552   \\n\\n******************************************...  \n",
       "2669   \\ncover \\n\\n\\n\\nTHE HOUND OF THE BASKERVILLES\\...  \n",
       "4808   \\n\\nTranscribed from the 1921 Eveleigh Nash & ...  \n",
       "7897   \\n\\n\\n\\n\\n\\n\\n\\nBEHIND A MASK _OR_ A WOMAN'S P...  \n",
       "48426  \\n\\n\\n\\n\\n\\n  POIROT INVESTIGATES\\n\\n\\n\\n\\n  B...  \n",
       "52299  AFFAIR ***\\n\\n\\n[Illustration]\\n\\n            ...  \n",
       "55131  \\n\\n\\n\\n\\n                             THE BIG...  "
      ]
     },
     "execution_count": 14,
     "metadata": {},
     "output_type": "execute_result"
    }
   ],
   "source": [
    "df_metadata_filtered"
   ]
  },
  {
   "cell_type": "code",
   "execution_count": 15,
   "metadata": {},
   "outputs": [],
   "source": [
    "#save dataframe to csv\n",
    "df_metadata_filtered.to_csv('../data/gutenberg_with_text.csv', index=False)"
   ]
  }
 ],
 "metadata": {
  "kernelspec": {
   "display_name": "Python 3",
   "language": "python",
   "name": "python3"
  },
  "language_info": {
   "codemirror_mode": {
    "name": "ipython",
    "version": 3
   },
   "file_extension": ".py",
   "mimetype": "text/x-python",
   "name": "python",
   "nbconvert_exporter": "python",
   "pygments_lexer": "ipython3",
   "version": "3.10.6"
  },
  "orig_nbformat": 4
 },
 "nbformat": 4,
 "nbformat_minor": 2
}
